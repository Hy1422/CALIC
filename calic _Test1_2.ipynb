{
 "cells": [
  {
   "cell_type": "code",
   "execution_count": 1,
   "metadata": {
    "collapsed": true
   },
   "outputs": [],
   "source": [
    "import numpy as np\n",
    "from skimage import data, io, util\n",
    "import matplotlib.pyplot as plt\n",
    "import imageio\n",
    "from PIL import Image\n",
    "import numpy as np\n",
    "import os\n",
    "import cv2  \n",
    "%matplotlib inline"
   ]
  },
  {
   "cell_type": "code",
   "execution_count": 2,
   "metadata": {},
   "outputs": [],
   "source": [
    "nums = 17\n",
    "height = 537\n",
    "width = 720"
   ]
  },
  {
   "cell_type": "code",
   "execution_count": 3,
   "metadata": {},
   "outputs": [],
   "source": [
    "# this function is for read image,the input is directory name\n",
    "def read_directory(directory_name):\n",
    "    imagelist = os.listdir(directory_name) \n",
    "    img_array = np.empty((nums,height,width,3))\n",
    "    i = 0\n",
    "    # this loop is for read each image in this foder,directory_name is the foder name with images.\n",
    "    for filename in imagelist:\n",
    "        #print(filename) #just for test\n",
    "        #img is used to store the image data \n",
    "        img = cv2.imread(directory_name + filename)\n",
    "        img=cv2.cvtColor(img, cv2.COLOR_BGR2RGB)\n",
    "        img_array[i] = img\n",
    "        i = i + 1\n",
    "        #print(img)\n",
    "    \n",
    "    return img_array\n"
   ]
  },
  {
   "cell_type": "code",
   "execution_count": 4,
   "metadata": {},
   "outputs": [],
   "source": [
    "directory_name = './Test1_2/'\n",
    "imagelist = os.listdir(directory_name) \n",
    "img_array = np.empty((nums,height,width,3))\n",
    "i = 0\n",
    "# this loop is for read each image in this foder,directory_name is the foder name with images.\n",
    "for filename in imagelist:\n",
    "    #print(filename) #just for test\n",
    "    #img is used to store the image data \n",
    "    img = cv2.imread(directory_name + filename)\n",
    "    img=cv2.cvtColor(img, cv2.COLOR_BGR2RGB)\n",
    "    img_array[i] = img\n",
    "    i = i + 1\n",
    "    #print(img)"
   ]
  },
  {
   "cell_type": "code",
   "execution_count": 5,
   "metadata": {},
   "outputs": [],
   "source": [
    "img_array = read_directory('./Test1_2/')"
   ]
  },
  {
   "cell_type": "code",
   "execution_count": 6,
   "metadata": {},
   "outputs": [],
   "source": [
    "EPI_img = np.empty((nums*height,width,3))\n",
    "for rows in range(0,height):\n",
    "    for s in range(0,17):\n",
    "        EPI_img[rows*17+s,:,:]= img_array[s,rows,:,:] # img_array stores all the images in a 4-D matrix\n"
   ]
  },
  {
   "cell_type": "code",
   "execution_count": 9,
   "metadata": {},
   "outputs": [],
   "source": [
    "EPI_img=EPI_img.astype(np.uint8)\n",
    "EPI_img = Image.fromarray(EPI_img,'RGB')\n",
    "EPI_img.save('Test1_2_EPI.png')"
   ]
  },
  {
   "cell_type": "code",
   "execution_count": 43,
   "metadata": {},
   "outputs": [],
   "source": [
    "imagelist = os.listdir('./Test1_2/') "
   ]
  },
  {
   "cell_type": "code",
   "execution_count": 24,
   "metadata": {},
   "outputs": [],
   "source": [
    "d = imageio.imread('Test1_2_EPI.png')\n",
    "d = np.array(d)"
   ]
  },
  {
   "cell_type": "code",
   "execution_count": 25,
   "metadata": {},
   "outputs": [],
   "source": [
    "d = d[:,:,0]"
   ]
  },
  {
   "cell_type": "code",
   "execution_count": 26,
   "metadata": {
    "collapsed": false
   },
   "outputs": [],
   "source": [
    "out = np.empty((d.shape[0], d.shape[1]), dtype=np.uint8) # GAP based image\n",
    "B = np.empty((d.shape[0], d.shape[1]), dtype=np.int16) # predicted context\n",
    "thre = [5, 15, 25, 42, 60, 85, 140]\n",
    "N = np.zeros((4 * 256,), dtype=np.int32)\n",
    "S = np.zeros((4 * 256,), dtype=np.int32)\n",
    "err_for_del = 0\n",
    "context = np.empty((d.shape[0], d.shape[1]), dtype=np.uint8) # Final context formation\n",
    "# Final context formation given by \"context\" variable"
   ]
  },
  {
   "cell_type": "code",
   "execution_count": 21,
   "metadata": {
    "collapsed": false
   },
   "outputs": [],
   "source": [
    "def get(im, i, j):\n",
    "    if 0 <= i < im.shape[0] and 0 <= j < im.shape[1]:\n",
    "        return int(im[i, j])\n",
    "    return 0"
   ]
  },
  {
   "cell_type": "code",
   "execution_count": 22,
   "metadata": {
    "collapsed": false
   },
   "outputs": [],
   "source": [
    "def GAP(im, i, j):\n",
    "    # predicting context\n",
    "    In = get(im, i, j-1)\n",
    "    Iw = get(im, i-1, j)\n",
    "    Ine = get(im, i+1, j-1)\n",
    "    Inw = get(im, i-1, j-1)\n",
    "    Inn = get(im, i, j-2)\n",
    "    Iww = get(im, i-2, j)\n",
    "    Inne = get(im, i+1, j-2)\n",
    "    # input to GAP\n",
    "    dh = abs(Iw - Iww) + abs(In - Inw) + abs(In - Ine)\n",
    "    dv = abs(Iw - Inw) + abs(In - Inn) + abs(Ine - Inne)\n",
    "    # GAP\n",
    "    if dv - dh > 80:\n",
    "        ic = Iw\n",
    "    elif dv - dh < -80:\n",
    "        ic = In\n",
    "    else:\n",
    "        ic = (Iw + In) / 2 + (Ine - Inw) / 4\n",
    "        if dv - dh > 32:\n",
    "            ic = (ic + Iw) / 2\n",
    "        elif dv - dh > 8:\n",
    "            ic = (3*ic + Iw) / 4\n",
    "        elif dv - dh < -32:\n",
    "            ic = (ic + In) / 2\n",
    "        elif dv - dh < -8:\n",
    "            ic = (3*ic + In) / 4\n",
    "    #\n",
    "    \n",
    "    # Texture Quantizer\n",
    "    temp = list(map(lambda x: int(x < ic),[(2*Iw)-Iww,(2*In)-Inn,Iww,Inn,Ine,Inw,Iw,In]))\n",
    "    B = temp[0] << 7 | temp[1] << 6 | temp[2] << 5 | temp[3] << 4 | temp[4] << 3 | temp[5] << 2 | temp[6] << 1 | temp[7]\n",
    "    # Delta.\n",
    "    global err_for_del\n",
    "    delt = dh + dv + 2*abs(err_for_del) #Error energy estimator computation\n",
    "    \n",
    "    # Error Energy Quantizer\n",
    "    #   Now quantize error energy estimator according to thresholds given by CALIC\n",
    "    #   Into 8 partitions\n",
    "    Qdel = -1\n",
    "    k = 0\n",
    "    while k < len(thre):\n",
    "        if delt <= thre[k]:\n",
    "            Qdel = k\n",
    "            break\n",
    "        k += 1\n",
    "    if Qdel == -1:\n",
    "        Qdel = 7\n",
    "        \n",
    "    # Context Modeling Context C\n",
    "    C = B * Qdel // 2\n",
    "    \n",
    "    # global err\n",
    "    # Update N (No of occurrences)\n",
    "    N[C] += 1\n",
    "    S[C] += err_for_del\n",
    "    # Limit the count\n",
    "    if N[C] == 255:\n",
    "        N[C] = N[C] / 2\n",
    "        S[C] = S[C] / 2\n",
    "    \n",
    "    ed = S[C] // N[C]\n",
    "    Itilde = ic + ed\n",
    "    out[i, j] = Itilde\n",
    "    context[i, j] = C  # store the context\n",
    "    err_for_del = get(im, i, j) - Itilde"
   ]
  },
  {
   "cell_type": "code",
   "execution_count": 27,
   "metadata": {
    "collapsed": false
   },
   "outputs": [],
   "source": [
    "# Apply GAP to every pixel\n",
    "for i in range(d.shape[0]):\n",
    "    for j in range(d.shape[1]):\n",
    "        GAP(d, i, j)"
   ]
  },
  {
   "cell_type": "code",
   "execution_count": 24,
   "metadata": {
    "collapsed": false
   },
   "outputs": [],
   "source": [
    "# Store the un-coded calic raw image. # calic \n",
    "f = open(\"Test1_2_EPI_0.craw\", \"wb\")\n",
    "f.write(N.tobytes())\n",
    "f.write(S.tobytes())\n",
    "f.write(context.tobytes())\n",
    "f.close()"
   ]
  },
  {
   "cell_type": "code",
   "execution_count": 13,
   "metadata": {
    "collapsed": false
   },
   "outputs": [],
   "source": [
    "# Store the raw image\n",
    "d=d.astype(np.uint8)\n",
    "f = open(\"Test1_2_EPI_0.raw\", \"wb\")\n",
    "f.write(d[:,:,0].tobytes())\n",
    "\n",
    "f = open(\"Test1_2_EPI_1.raw\", \"wb\")\n",
    "f.write(d[:,:,1].tobytes())\n",
    "\n",
    "f = open(\"Test1_2_EPI_2.raw\", \"wb\")\n",
    "f.write(d[:,:,2].tobytes())\n",
    "\n",
    "#f.write(d.tobytes())\n",
    "f.close()"
   ]
  },
  {
   "cell_type": "code",
   "execution_count": 26,
   "metadata": {
    "collapsed": false
   },
   "outputs": [],
   "source": [
    "# Apply arithmetic coding to compress it\n",
    "import adaptive_arithmetic_compress\n",
    "adaptive_arithmetic_compress.main([\"Test1_2_EPI_1.craw\", \"Test1_2_EPI_1.dat\"])"
   ]
  },
  {
   "cell_type": "code",
   "execution_count": 27,
   "metadata": {
    "collapsed": false
   },
   "outputs": [
    {
     "data": {
      "image/png": "[encoded data removed]",
      "text/plain": [
       "<Figure size 432x288 with 1 Axes>"
      ]
     },
     "metadata": {
      "needs_background": "light"
     },
     "output_type": "display_data"
    }
   ],
   "source": [
    "io.imshow(d)\n",
    "io.show()"
   ]
  },
  {
   "cell_type": "code",
   "execution_count": 28,
   "metadata": {
    "collapsed": false
   },
   "outputs": [
    {
     "data": {
      "image/png": "[encoded data removed]",
      "text/plain": [
       "<Figure size 432x288 with 1 Axes>"
      ]
     },
     "metadata": {
      "needs_background": "light"
     },
     "output_type": "display_data"
    }
   ],
   "source": [
    "io.imshow(out)\n",
    "io.show()"
   ]
  },
  {
   "cell_type": "code",
   "execution_count": 15,
   "metadata": {},
   "outputs": [],
   "source": [
    "# Restore image\n",
    "\n",
    "rows = 9129\n",
    "cols = width\n",
    "channels = 1\n",
    "\n",
    "img_0 = np.fromfile('Test1_2_EPI_PAE5_0_r.raw', dtype='uint8')\n",
    "#img_0 = img_0.reshape(rows, cols, channels)\n",
    "img_0 = img_0.reshape(rows, cols)\n",
    "\n",
    "img_1 = np.fromfile('Test1_2_EPI_PAE5_1_r.raw', dtype='uint8')\n",
    "img_1 = img_1.reshape(rows, cols)\n",
    "\n",
    "img_2 = np.fromfile('Test1_2_EPI_PAE5_2_r.raw', dtype='uint8')\n",
    "img_2 = img_2.reshape(rows, cols)\n",
    "\n",
    "d_r=np.zeros(shape=(9129,width,3))\n",
    "d_r[:,:,0] = img_0\n",
    "d_r[:,:,1] = img_1\n",
    "d_r[:,:,2] = img_2\n",
    "\n",
    "#cv2.imshow('Infared image',img)\n",
    "# dtype transform\n",
    "d_r=d_r.astype(np.uint8)\n",
    "EPI_img_r = d_r"
   ]
  },
  {
   "cell_type": "code",
   "execution_count": 16,
   "metadata": {},
   "outputs": [],
   "source": [
    "d_r = Image.fromarray(d_r,'RGB')\n",
    "d_r.save('Test1_2_EPI_PAE5_r.png')"
   ]
  },
  {
   "cell_type": "code",
   "execution_count": 17,
   "metadata": {},
   "outputs": [],
   "source": [
    "# EPI to PNG\n",
    "img_array_r = np.empty((nums,height,width,3))\n",
    "for rows in range(0,height):\n",
    "    for s in range(0,17):\n",
    "       img_array_r[s,rows,:,:] = EPI_img_r[rows*17+s,:,:]\n",
    "\n",
    "i = 0\n",
    "for filename in imagelist:\n",
    "    #print(filename) #just for test\n",
    "    #img is used to store the image data \n",
    "    img = img_array_r[i] \n",
    "    img=img.astype(np.uint8)\n",
    "    img = Image.fromarray(img,'RGB')\n",
    "    img.save('./Test1_2_PAE5_r/restore_' + filename)\n",
    "    i = i + 1"
   ]
  },
  {
   "cell_type": "code",
   "execution_count": 22,
   "metadata": {},
   "outputs": [],
   "source": [
    "EPI_cut = EPI_img_r[0:500,:,:]\n",
    "EPI_cut=EPI_cut.astype(np.uint8)\n",
    "EPI_cut = Image.fromarray(EPI_cut,'RGB')\n",
    "EPI_cut.save('./EPI_cut.png')"
   ]
  }
 ],
 "metadata": {
  "anaconda-cloud": {},
  "interpreter": {
   "hash": "a89fb05266c321adee45222a47e68951ba9efc44661bbf08031389213688d5e8"
  },
  "kernelspec": {
   "display_name": "Python 3.8.5 ('base')",
   "language": "python",
   "name": "python3"
  },
  "language_info": {
   "codemirror_mode": {
    "name": "ipython",
    "version": 3
   },
   "file_extension": ".py",
   "mimetype": "text/x-python",
   "name": "python",
   "nbconvert_exporter": "python",
   "pygments_lexer": "ipython3",
   "version": "3.8.5"
  }
 },
 "nbformat": 4,
 "nbformat_minor": 2
}
